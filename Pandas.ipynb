{
  "nbformat": 4,
  "nbformat_minor": 0,
  "metadata": {
    "colab": {
      "provenance": []
    },
    "kernelspec": {
      "name": "python3",
      "display_name": "Python 3"
    },
    "language_info": {
      "name": "python"
    }
  },
  "cells": [
    {
      "cell_type": "markdown",
      "source": [
        "# Introduction to Pandas\n",
        "\n",
        "Pandas is a powerful and flexible open-source data analysis and manipulation library for Python. It provides data structures and functions needed to efficiently manipulate large datasets and perform complex data analyses. Whether you're working with time series data, financial data, or other forms of tabular data, Pandas offers a robust set of tools to make your data analysis tasks easier and more intuitive.\n",
        "\n",
        "## Key Features of Pandas\n",
        "\n",
        "- **Data Structures**: Pandas introduces two primary data structures:\n",
        "  - **Series**: A one-dimensional array-like structure that can hold any data type (integers, strings, floats, etc.) with an associated index.\n",
        "  - **DataFrame**: A two-dimensional, size-mutable, tabular data structure with labeled axes (rows and columns), which can be thought of as a table or a spreadsheet.\n",
        "\n",
        "- **Data Alignment and Integration**: Pandas makes it easy to align data from different sources and integrate them into a single DataFrame, handling missing data and aligning data automatically.\n",
        "\n",
        "- **Data Cleaning and Transformation**: Pandas offers powerful methods for cleaning and transforming data, including handling missing values, filtering data, and reshaping datasets.\n",
        "\n",
        "- **Data Aggregation and Grouping**: With Pandas, you can group data and perform aggregations to summarize and analyze data across different categories or groups.\n",
        "\n",
        "- **Time Series Analysis**: Pandas has robust support for time series data, including functionality for resampling, time shifting, and handling date and time operations.\n",
        "\n",
        "- **Data Visualization**: Pandas integrates with Matplotlib to provide simple plotting capabilities for visualizing data directly from DataFrames and Series.\n",
        "\n",
        "## Why Use Pandas?\n",
        "\n",
        "Pandas simplifies many aspects of data analysis with its intuitive and easy-to-use API. It allows you to:\n",
        "- Perform complex data manipulations and analyses with just a few lines of code.\n",
        "- Handle large datasets efficiently.\n",
        "- Easily clean and preprocess data to prepare it for further analysis or machine learning.\n",
        "\n",
        "Whether you're a data scientist, analyst, or engineer, Pandas is an essential tool for working with data in Python. In this notebook, we'll explore the core functionalities of Pandas, including how to create and manipulate Series and DataFrames, handle missing data, and perform advanced data operations.\n"
      ],
      "metadata": {
        "id": "tEGW3O8NomEg"
      }
    },
    {
      "cell_type": "code",
      "source": [
        "!pip -q install pandas\n"
      ],
      "metadata": {
        "id": "N3YaK0Zmo5-2"
      },
      "execution_count": 2,
      "outputs": []
    },
    {
      "cell_type": "code",
      "source": [
        "# Import necessary libraries\n",
        "import numpy as np\n",
        "import pandas as pd\n"
      ],
      "metadata": {
        "id": "jaW05rzpo-WK"
      },
      "execution_count": 3,
      "outputs": []
    },
    {
      "cell_type": "markdown",
      "source": [
        "**Series**"
      ],
      "metadata": {
        "id": "pu3ImeDfpOB0"
      }
    },
    {
      "cell_type": "markdown",
      "source": [],
      "metadata": {
        "id": "7CmRamsYoyaY"
      }
    },
    {
      "cell_type": "code",
      "source": [
        "# Creating a Series from a list\n",
        "kids = ['Parsa', 'Nikoo', 'Alij']\n",
        "kids_series = pd.Series(kids)\n",
        "print(kids_series)\n",
        "\n",
        "# Creating a Series from a dictionary\n",
        "jobs = {'Parsa': 'Gamer', 'Nikoo': 'Scientist', 'Alij': 'Student'}\n",
        "jobs_series = pd.Series(jobs)\n",
        "print(jobs_series)\n"
      ],
      "metadata": {
        "colab": {
          "base_uri": "https://localhost:8080/"
        },
        "id": "OQLajQV3pUIT",
        "outputId": "8394aa9d-57fd-4fd8-f9ea-f90edc3c76f1"
      },
      "execution_count": 4,
      "outputs": [
        {
          "output_type": "stream",
          "name": "stdout",
          "text": [
            "0    Parsa\n",
            "1    Nikoo\n",
            "2     Alij\n",
            "dtype: object\n",
            "Parsa        Gamer\n",
            "Nikoo    Scientist\n",
            "Alij       Student\n",
            "dtype: object\n"
          ]
        }
      ]
    },
    {
      "cell_type": "markdown",
      "source": [
        "**Handling Missing Data**"
      ],
      "metadata": {
        "id": "3REVFgrbsO2I"
      }
    },
    {
      "cell_type": "code",
      "source": [
        "# Series with NaN values\n",
        "numbers = [1, 2, 3, None]\n",
        "numbers_series = pd.Series(numbers)\n",
        "print(numbers_series)\n",
        "\n",
        "# Check for NaN\n",
        "print(np.isnan(np.nan))  # True\n",
        "\n",
        "# Handle missing values\n",
        "filled_series = numbers_series.fillna(0)\n",
        "print(filled_series)\n"
      ],
      "metadata": {
        "colab": {
          "base_uri": "https://localhost:8080/"
        },
        "id": "3qZd6PuTsS8p",
        "outputId": "82f0c06a-156f-4ce1-a20e-0ff552465f7c"
      },
      "execution_count": 8,
      "outputs": [
        {
          "output_type": "stream",
          "name": "stdout",
          "text": [
            "0    1.0\n",
            "1    2.0\n",
            "2    3.0\n",
            "3    NaN\n",
            "dtype: float64\n",
            "True\n",
            "0    1.0\n",
            "1    2.0\n",
            "2    3.0\n",
            "3    0.0\n",
            "dtype: float64\n"
          ]
        }
      ]
    },
    {
      "cell_type": "markdown",
      "source": [
        "**Indexing and Accessing Data**"
      ],
      "metadata": {
        "id": "J6eDI8jUtaFz"
      }
    },
    {
      "cell_type": "code",
      "source": [
        "# Accessing by label and position\n",
        "print(jobs_series.loc['Parsa'])   # 'Gamer'\n",
        "print(jobs_series.iloc[0])        # 'Gamer'\n",
        "\n",
        "# Iterating through a Series\n",
        "for label, value in jobs_series.items():\n",
        "    print(f\"{label}: {value}\")"
      ],
      "metadata": {
        "colab": {
          "base_uri": "https://localhost:8080/"
        },
        "id": "GtTjEbBxtcSp",
        "outputId": "296b7362-3779-47d0-83cf-b539f888b651"
      },
      "execution_count": 10,
      "outputs": [
        {
          "output_type": "stream",
          "name": "stdout",
          "text": [
            "Gamer\n",
            "Gamer\n",
            "Parsa: Gamer\n",
            "Nikoo: Scientist\n",
            "Alij: Student\n"
          ]
        }
      ]
    },
    {
      "cell_type": "markdown",
      "source": [
        "**DataFrames**\n",
        "**Creating DataFrames**"
      ],
      "metadata": {
        "id": "2f_hOe44uWrt"
      }
    },
    {
      "cell_type": "code",
      "source": [
        "# Creating a DataFrame from a dictionary of Series\n",
        "data = {\n",
        "    'Name': ['Alice', 'Jack', 'Helen'],\n",
        "    'Class': ['Physics', 'Chemistry', 'Biology'],\n",
        "    'Score': [85, 82, 90]\n",
        "}\n",
        "df = pd.DataFrame(data, index=['school1', 'school2', 'school1'])\n",
        "print(df)\n"
      ],
      "metadata": {
        "colab": {
          "base_uri": "https://localhost:8080/"
        },
        "id": "24EsfKAgudj_",
        "outputId": "85af573f-7778-4c93-b699-1379ea27f7f3"
      },
      "execution_count": 11,
      "outputs": [
        {
          "output_type": "stream",
          "name": "stdout",
          "text": [
            "          Name      Class  Score\n",
            "school1  Alice    Physics     85\n",
            "school2   Jack  Chemistry     82\n",
            "school1  Helen    Biology     90\n"
          ]
        }
      ]
    },
    {
      "cell_type": "markdown",
      "source": [
        "**Accessing and Modifying Data**"
      ],
      "metadata": {
        "id": "kWYMZao4u3Fb"
      }
    },
    {
      "cell_type": "code",
      "source": [
        "# Accessing rows and columns\n",
        "print(df.loc['school2'])\n",
        "print(df['Name'])\n",
        "print(df.loc['school1', 'Score'])\n",
        "\n",
        "# Adding and removing columns\n",
        "df['ClassRanking'] = [2, 4, 3]\n",
        "print(df)\n",
        "\n",
        "df.drop('Class', axis=1, inplace=True)\n",
        "print(df)"
      ],
      "metadata": {
        "colab": {
          "base_uri": "https://localhost:8080/"
        },
        "id": "ohQkvuqIu07q",
        "outputId": "4adab9db-bf59-46b0-db58-2cd30e24cdde"
      },
      "execution_count": 16,
      "outputs": [
        {
          "output_type": "stream",
          "name": "stdout",
          "text": [
            "Name          Jack\n",
            "Class    Chemistry\n",
            "Score           82\n",
            "Name: school2, dtype: object\n",
            "school1    Alice\n",
            "school2     Jack\n",
            "school1    Helen\n",
            "Name: Name, dtype: object\n",
            "school1    85\n",
            "school1    90\n",
            "Name: Score, dtype: int64\n",
            "          Name      Class  Score  ClassRanking\n",
            "school1  Alice    Physics     85             2\n",
            "school2   Jack  Chemistry     82             4\n",
            "school1  Helen    Biology     90             3\n",
            "          Name  Score  ClassRanking\n",
            "school1  Alice     85             2\n",
            "school2   Jack     82             4\n",
            "school1  Helen     90             3\n"
          ]
        }
      ]
    },
    {
      "cell_type": "markdown",
      "source": [
        "**Querying Data**"
      ],
      "metadata": {
        "id": "1pAIVyylwoIE"
      }
    },
    {
      "cell_type": "code",
      "source": [
        "# Filtering rows based on conditions\n",
        "high_scores = df[df['Score'] > 85]\n",
        "print(high_scores)\n",
        "\n",
        "# Using multiple conditions\n",
        "filtered_df = df[(df['Score'] > 84) & (df['ClassRanking'] > 2)]\n",
        "print(filtered_df)\n"
      ],
      "metadata": {
        "colab": {
          "base_uri": "https://localhost:8080/"
        },
        "id": "6DslOOl5wonF",
        "outputId": "973e23cf-83cd-4b5a-9367-f2d3da4491f1"
      },
      "execution_count": 17,
      "outputs": [
        {
          "output_type": "stream",
          "name": "stdout",
          "text": [
            "          Name  Score  ClassRanking\n",
            "school1  Helen     90             3\n",
            "          Name  Score  ClassRanking\n",
            "school1  Helen     90             3\n"
          ]
        }
      ]
    },
    {
      "cell_type": "markdown",
      "source": [
        "**Handling Missing Data**"
      ],
      "metadata": {
        "id": "o7OIihRJwzer"
      }
    },
    {
      "cell_type": "code",
      "source": [
        "# Adding a column with missing values\n",
        "df['Age'] = [14, 16, None]\n",
        "print(df)\n",
        "\n",
        "# Drop rows with missing values\n",
        "df_dropped = df.dropna()\n",
        "print(df_dropped)\n",
        "\n",
        "# Fill missing values\n",
        "df_filled = df.fillna({'Age': 0})\n",
        "print(df_filled)"
      ],
      "metadata": {
        "colab": {
          "base_uri": "https://localhost:8080/"
        },
        "id": "27_WmF4gw1RQ",
        "outputId": "e543f75e-c957-47c6-8be3-3744824fc10b"
      },
      "execution_count": 18,
      "outputs": [
        {
          "output_type": "stream",
          "name": "stdout",
          "text": [
            "          Name  Score  ClassRanking   Age\n",
            "school1  Alice     85             2  14.0\n",
            "school2   Jack     82             4  16.0\n",
            "school1  Helen     90             3   NaN\n",
            "          Name  Score  ClassRanking   Age\n",
            "school1  Alice     85             2  14.0\n",
            "school2   Jack     82             4  16.0\n",
            "          Name  Score  ClassRanking   Age\n",
            "school1  Alice     85             2  14.0\n",
            "school2   Jack     82             4  16.0\n",
            "school1  Helen     90             3   0.0\n"
          ]
        }
      ]
    },
    {
      "cell_type": "markdown",
      "source": [
        "Merging and Joining DataFrames"
      ],
      "metadata": {
        "id": "e6ApZHNmxaQ_"
      }
    },
    {
      "cell_type": "code",
      "source": [
        "# Creating additional DataFrames\n",
        "df1 = pd.DataFrame({'Name': ['Alice', 'Bob'], 'Age': [25, 30]})\n",
        "df2 = pd.DataFrame({'Name': ['Alice', 'Bob'], 'Score': [85, 90]})\n",
        "\n",
        "# Merging DataFrames\n",
        "merged_df = pd.merge(df1, df2, on='Name', how='inner')\n",
        "print(merged_df)\n"
      ],
      "metadata": {
        "colab": {
          "base_uri": "https://localhost:8080/"
        },
        "id": "-ni3-l30xbJ-",
        "outputId": "424f4a0f-7a0d-4936-bb10-adda8ce2724f"
      },
      "execution_count": 19,
      "outputs": [
        {
          "output_type": "stream",
          "name": "stdout",
          "text": [
            "    Name  Age  Score\n",
            "0  Alice   25     85\n",
            "1    Bob   30     90\n"
          ]
        }
      ]
    },
    {
      "cell_type": "markdown",
      "source": [
        "**Time Series Handling**"
      ],
      "metadata": {
        "id": "9ZUPTfHSxknQ"
      }
    },
    {
      "cell_type": "code",
      "source": [
        "# Creating a time series DataFrame\n",
        "dates = pd.date_range('20230101', periods=6)\n",
        "ts_df = pd.DataFrame({'Date': dates, 'Value': np.random.randn(6)})\n",
        "ts_df.set_index('Date', inplace=True)\n",
        "print(ts_df)\n",
        "\n",
        "# Extracting date parts\n",
        "ts_df['Year'] = ts_df.index.year\n",
        "ts_df['Month'] = ts_df.index.month\n",
        "print(ts_df)\n"
      ],
      "metadata": {
        "colab": {
          "base_uri": "https://localhost:8080/"
        },
        "id": "hVXdoEUzxZDo",
        "outputId": "c9c7d0e1-e31e-4ba8-9913-12b5820af9b4"
      },
      "execution_count": 20,
      "outputs": [
        {
          "output_type": "stream",
          "name": "stdout",
          "text": [
            "               Value\n",
            "Date                \n",
            "2023-01-01  1.034953\n",
            "2023-01-02 -0.444170\n",
            "2023-01-03  0.891771\n",
            "2023-01-04 -1.649392\n",
            "2023-01-05 -0.381064\n",
            "2023-01-06  0.601412\n",
            "               Value  Year  Month\n",
            "Date                             \n",
            "2023-01-01  1.034953  2023      1\n",
            "2023-01-02 -0.444170  2023      1\n",
            "2023-01-03  0.891771  2023      1\n",
            "2023-01-04 -1.649392  2023      1\n",
            "2023-01-05 -0.381064  2023      1\n",
            "2023-01-06  0.601412  2023      1\n"
          ]
        }
      ]
    },
    {
      "cell_type": "markdown",
      "source": [
        "**Plotting**"
      ],
      "metadata": {
        "id": "oJb_jxQO1RsT"
      }
    },
    {
      "cell_type": "code",
      "source": [
        "import matplotlib.pyplot as plt\n",
        "\n",
        "# Plotting a DataFrame\n",
        "df['Score'].plot(kind='bar')\n",
        "plt.title('Scores')\n",
        "plt.xlabel('Index')\n",
        "plt.ylabel('Score')\n",
        "plt.show()"
      ],
      "metadata": {
        "colab": {
          "base_uri": "https://localhost:8080/",
          "height": 511
        },
        "id": "jjjemY0y1QuS",
        "outputId": "14661282-08de-4f05-b4bf-9f9bfa4ec6a3"
      },
      "execution_count": 21,
      "outputs": [
        {
          "output_type": "display_data",
          "data": {
            "text/plain": [
              "<Figure size 640x480 with 1 Axes>"
            ],
            "image/png": "[encoded data removed]"
          },
          "metadata": {}
        }
      ]
    },
    {
      "cell_type": "markdown",
      "source": [
        "**Performance Optimization**"
      ],
      "metadata": {
        "id": "nzKExW1h2BMl"
      }
    },
    {
      "cell_type": "code",
      "source": [
        "# Using efficient data types\n",
        "df = pd.read_csv('data.csv', dtype={'Score': 'int32', 'Age': 'float32'}) # If data.csv is in the same directory\n",
        "# df = pd.read_csv('/path/to/data.csv', dtype={'Score': 'int32', 'Age': 'float32'}) # If data.csv is in a different directory\n",
        "print(df.info())"
      ],
      "metadata": {
        "id": "TZ4QZj0g1_7c"
      },
      "execution_count": 24,
      "outputs": []
    }
  ]
}